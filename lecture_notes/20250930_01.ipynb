{
 "cells": [
  {
   "cell_type": "markdown",
   "id": "0bedafad",
   "metadata": {},
   "source": [
    "# 30.09.2025 - Lecture 01\n",
    "\n",
    "\n",
    "* Projektarbeit zum Erlernen/Anwenden von Kuka Robot Language (KRL) --> From KRL to ROS 2\n",
    "* Schulungsmaterial bei Kuka-Zellen\n",
    "* Ziel: Erlernen von Prinzipien der Roboterprogrammierung, nicht Erlernen von speziell Sprache\n",
    "* bald .zip mit Infos über Python (in Ilias)\n",
    "* Git (in Ilias) clonen, requirements installieren und Jupyter Notebook angucken\n",
    "* Anaconda nutzen (?) --> Jupyter mit dabei https://www.anaconda.com\n",
    "* Abgabe: Präsentation vor allen und Notebook\n",
    "* Introduction 1-3 notebook mit Infos über Python als Programmiersprache"
   ]
  }
 ],
 "metadata": {
  "language_info": {
   "name": "python"
  }
 },
 "nbformat": 4,
 "nbformat_minor": 5
}
