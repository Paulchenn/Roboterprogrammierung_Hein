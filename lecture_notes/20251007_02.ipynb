{
 "cells": [
  {
   "cell_type": "markdown",
   "metadata": {},
   "source": [
    "# 07.10.2025 - Lecture 01\n",
    "\n",
    "## Regeln der Robotik nach Isaac Asimov\n",
    "1. Ein Roboter darf einem Menschen, bzw. der Menschheit nicht schaden.\n",
    "1. .\n",
    "1. Ein Roboter darf sich selbst keinen Schaden zukommen lassen.\n",
    "\n",
    "## Warum 6 Achsen?\n",
    "3x Translatorisch (x, y, z) & 3x Rotatorisch ($\\alpha$, $\\beta$, $\\gamma$) --> an der letzten Achse (kurz vorm Manipulator)\n",
    "\n",
    "## PTP\n",
    "<img src=\"Figures/02_01_PTP.png\" width=500em style=\"float: right;\" />\n",
    "\n",
    "* Asynchron: Schlecht vorhersagbar.\n",
    "* Synchron: Vorhersagbar, aber keine Gerdae im Konfigurationsraum.\n",
    "* Vollsynchron: Standard, alles was wir machen basiert darauf."
   ]
  }
 ],
 "metadata": {
  "kernelspec": {
   "display_name": "Python 3",
   "language": "python",
   "name": "python3"
  },
  "language_info": {
   "name": "python",
   "version": "3.x"
  }
 },
 "nbformat": 4,
 "nbformat_minor": 5
}
