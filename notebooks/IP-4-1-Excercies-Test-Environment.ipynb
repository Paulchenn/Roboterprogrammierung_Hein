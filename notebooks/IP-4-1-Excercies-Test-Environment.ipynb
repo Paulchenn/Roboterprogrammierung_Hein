{
 "cells": [
  {
   "cell_type": "code",
   "execution_count": null,
   "id": "8d77cc63",
   "metadata": {},
   "outputs": [],
   "source": [
    "import matplotlib.pyplot as plt\n",
    "from matplotlib.patches import Circle\n",
    "#%matplotlib notebook\n",
    "\n",
    "# use following for pdf generation\n",
    "%matplotlib inline\n",
    "\n",
    "from shapely.geometry import Point, Polygon, LineString\n",
    "from shapely import plotting"
   ]
  },
  {
   "cell_type": "code",
   "execution_count": null,
   "id": "99dd8463",
   "metadata": {},
   "outputs": [],
   "source": [
    "class CollisionChecker(object):\n",
    "\n",
    "    def __init__(self, scene, limits = [[0.0,22.0],[0.0,22.0]], statistic = None):\n",
    "        self.scene = scene\n",
    "        self.limits = limits\n",
    "        \n",
    "    def getDim(self):\n",
    "        \"\"\" Return dimension of Environment (Shapely should currently always be 2)\"\"\"\n",
    "        return 2\n",
    "    \n",
    "    def getEnvironmentLimits(self):\n",
    "        \"\"\" Return limits of Environment\"\"\"\n",
    "        return list(self.limits)\n",
    "\n",
    "    def pointInCollision(self, pos):\n",
    "        \"\"\" Return whether a configuration is\n",
    "        inCollision -> True\n",
    "        Free -> False \"\"\"\n",
    "        assert(len(pos)==self.getDim())\n",
    "        for key, value in self.scene.items():\n",
    "            if value.intersects(Point(pos[0],pos[1])):              \n",
    "                return True\n",
    "        return False\n",
    "\n",
    "    def lineInCollision(self, startPos, endPos):\n",
    "        \"\"\" Check whether a line from startPos to endPos is colliding\"\"\"\n",
    "        assert(len(startPos)==self.getDim())\n",
    "        assert(len(endPos)==self.getDim())\n",
    "       \n",
    "        for key, value in self.scene.items():\n",
    "            if value.intersects(LineString([(startPos[0],startPos[1]),(endPos[0],endPos[1])])):\n",
    "                return True\n",
    "        return False\n",
    "    \n",
    "    def drawObstacles(self, ax):\n",
    "        for key, value in self.scene.items():\n",
    "            plotting.plot_polygon(value, add_points=False, ax=ax)"
   ]
  },
  {
   "cell_type": "code",
   "execution_count": null,
   "id": "26fa4e86",
   "metadata": {},
   "outputs": [],
   "source": [
    "mid_scene = dict()\n",
    "mid_scene[\"obs1\"] = LineString([(3,7), (3,17), (19,17),(19,7)]).buffer(0.5)\n",
    "mid_scene[\"obs2\"] = LineString([[3,5],[19,5]]).buffer(0.5)"
   ]
  },
  {
   "cell_type": "code",
   "execution_count": null,
   "id": "558cc5e5",
   "metadata": {},
   "outputs": [],
   "source": [
    "start_config_mid = [7.5, 20]\n",
    "goal_config_mid =  [12.5, 12.5]"
   ]
  },
  {
   "cell_type": "code",
   "execution_count": null,
   "id": "11e1dbf0",
   "metadata": {},
   "outputs": [],
   "source": [
    "cc_mid = CollisionChecker(mid_scene)"
   ]
  },
  {
   "cell_type": "code",
   "execution_count": null,
   "id": "49758d43",
   "metadata": {},
   "outputs": [],
   "source": [
    "fig = plt.figure(figsize=(5,5))\n",
    "ax = fig.add_subplot(1,1,1)\n",
    "limits = cc_mid.getEnvironmentLimits()\n",
    "ax.set_xlim(limits[0])\n",
    "ax.set_ylim(limits[1])\n",
    "\n",
    "ax.add_patch(Circle(start_config_mid, radius=0.5, color='g', zorder=9, label='Start'))\n",
    "ax.add_patch(Circle(goal_config_mid, radius=0.5, color='r', zorder=9, label='Start'))\n",
    "\n",
    "cc_mid.drawObstacles(ax)"
   ]
  },
  {
   "cell_type": "code",
   "execution_count": null,
   "id": "7343b52c",
   "metadata": {},
   "outputs": [],
   "source": [
    "# Create a labyrinth scene with many walls\n",
    "hard_scene = dict()\n",
    "\n",
    "# Outer boundaries\n",
    "hard_scene[\"outer_top\"] = LineString([(1, 21), (21, 21)]).buffer(0.3)\n",
    "hard_scene[\"outer_bottom\"] = LineString([(1, 1), (21, 1)]).buffer(0.3)\n",
    "hard_scene[\"outer_left\"] = LineString([(1, 1), (1, 21)]).buffer(0.3)\n",
    "hard_scene[\"outer_right\"] = LineString([(21, 1), (21, 21)]).buffer(0.3)\n",
    "\n",
    "# Vertical walls\n",
    "for i in range(3, 20, 4):\n",
    "    hard_scene[f\"vwall_{i}\"] = LineString([(i, 3), (i, 19)]).buffer(0.2)\n",
    "\n",
    "# Horizontal walls\n",
    "for j in range(12, 20, 4):\n",
    "    hard_scene[f\"hwall_{j}\"] = LineString([(3, j), (20, j)]).buffer(0.2)\n",
    "\n",
    "# Horizontal walls open\n",
    "for j in range(4, 12, 4):\n",
    "    hard_scene[f\"hwall_openLeft_{j}\"] = LineString([(3, j), (11.5, j)]).buffer(0.2)\n",
    "    hard_scene[f\"hwall_openRight_{j}\"] = LineString([(14.5, j), (20, j)]).buffer(0.2)\n",
    "\n",
    "# Add some inner blocks\n",
    "hard_scene[\"block1\"] = Polygon([(6, 6), (7, 6), (7, 7), (6, 7)]).buffer(0.3)\n",
    "hard_scene[\"block2\"] = Polygon([(14, 14), (15, 14), (15, 15), (14, 15)]).buffer(0.3)\n",
    "hard_scene[\"block3\"] = Polygon([(10, 10), (11, 10), (11, 11), (10, 11)]).buffer(0.3)"
   ]
  },
  {
   "cell_type": "code",
   "execution_count": null,
   "id": "a14e6a0b",
   "metadata": {},
   "outputs": [],
   "source": [
    "start_config_hard = [8, 18]\n",
    "goal_config_hard =  [13, 10]"
   ]
  },
  {
   "cell_type": "code",
   "execution_count": null,
   "id": "9aaa1075",
   "metadata": {},
   "outputs": [],
   "source": [
    "cc_hard = CollisionChecker(hard_scene)"
   ]
  },
  {
   "cell_type": "code",
   "execution_count": null,
   "id": "737eef0e",
   "metadata": {},
   "outputs": [],
   "source": [
    "fig = plt.figure(figsize=(5,5))\n",
    "ax = fig.add_subplot(1,1,1)\n",
    "limits = cc_hard.getEnvironmentLimits()\n",
    "ax.set_xlim(limits[0])\n",
    "ax.set_ylim(limits[1])\n",
    "\n",
    "ax.add_patch(Circle(start_config_hard, radius=0.5, color='g', zorder=9, label='Start'))\n",
    "ax.add_patch(Circle(goal_config_hard, radius=0.5, color='r', zorder=9, label='Start'))\n",
    "\n",
    "cc_hard.drawObstacles(ax)"
   ]
  }
 ],
 "metadata": {
  "kernelspec": {
   "display_name": ".venv (3.13.8)",
   "language": "python",
   "name": "python3"
  },
  "language_info": {
   "codemirror_mode": {
    "name": "ipython",
    "version": 3
   },
   "file_extension": ".py",
   "mimetype": "text/x-python",
   "name": "python",
   "nbconvert_exporter": "python",
   "pygments_lexer": "ipython3",
   "version": "3.13.8"
  }
 },
 "nbformat": 4,
 "nbformat_minor": 5
}
