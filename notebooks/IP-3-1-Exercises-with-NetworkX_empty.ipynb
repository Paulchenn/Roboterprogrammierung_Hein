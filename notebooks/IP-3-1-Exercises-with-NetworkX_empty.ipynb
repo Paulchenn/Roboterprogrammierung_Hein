{
 "cells": [
  {
   "cell_type": "markdown",
   "id": "fcb6c8d6-5822-4841-9800-171a14ef625b",
   "metadata": {},
   "source": [
    "# Exercises with NetworkX"
   ]
  },
  {
   "cell_type": "markdown",
   "id": "ced81467-6ea8-4742-b64e-308cb7691d01",
   "metadata": {},
   "source": [
    "1. Graph with x nodes at random position\n",
    "2. Graph with x nodes at random position and all nodes are connected with edges\n",
    "3. Graph with x nodes at random position, nodes with given distance are connected\n",
    "\n",
    "\n",
    "Following the results from the lecture discussion\n"
   ]
  },
  {
   "cell_type": "code",
   "execution_count": null,
   "id": "639ca454-21a8-4dda-9771-502c5c8c43a6",
   "metadata": {},
   "outputs": [],
   "source": [
    "import math\n",
    "import networkx as nx\n",
    "import random as rn\n",
    "import matplotlib.pylab as plt"
   ]
  },
  {
   "cell_type": "code",
   "execution_count": null,
   "id": "e319684e-bc9d-4b6e-9168-57173a8ee6c9",
   "metadata": {},
   "outputs": [],
   "source": [
    "G_myG = nx.Graph()"
   ]
  },
  {
   "cell_type": "code",
   "execution_count": null,
   "id": "1a27d377",
   "metadata": {},
   "outputs": [],
   "source": [
    "n_nodes = 100\n",
    "myRange = (0, 10)\n",
    "\n",
    "for i in range(n_nodes):\n",
    "    x = rn.uniform(myRange[0], myRange[1])\n",
    "    y = rn.uniform(myRange[0], myRange[1])\n",
    "    G_myG.add_node(i, mypos = [x, y])\n",
    "\n",
    "pos_dict = nx.get_node_attributes(G_myG,'mypos')"
   ]
  },
  {
   "cell_type": "code",
   "execution_count": null,
   "id": "52749305",
   "metadata": {},
   "outputs": [],
   "source": [
    "G_myG.nodes(data=True)"
   ]
  },
  {
   "cell_type": "code",
   "execution_count": null,
   "id": "03e83dcc",
   "metadata": {},
   "outputs": [],
   "source": [
    "fig, axes = plt.subplots()\n",
    "\n",
    "nx.draw(G_myG, pos=pos_dict, with_labels=True)"
   ]
  },
  {
   "cell_type": "code",
   "execution_count": null,
   "id": "f8dde24d",
   "metadata": {},
   "outputs": [],
   "source": [
    "for i in range(len(G_myG.nodes)):\n",
    "    for j in range(len(G_myG.nodes)):\n",
    "        if not i==j:\n",
    "            G_myG.add_edge(i,j)"
   ]
  },
  {
   "cell_type": "code",
   "execution_count": null,
   "id": "06b66e68",
   "metadata": {},
   "outputs": [],
   "source": [
    "con_comp = nx.connected_components(G_myG)\n",
    "\n",
    "for a in list(con_comp):\n",
    "    print(a)"
   ]
  },
  {
   "cell_type": "code",
   "execution_count": null,
   "id": "900f9767",
   "metadata": {},
   "outputs": [],
   "source": [
    "fig, axes = plt.subplots()\n",
    "\n",
    "nx.draw(G_myG, pos=pos_dict, with_labels=True, ax=axes)"
   ]
  },
  {
   "cell_type": "code",
   "execution_count": null,
   "id": "79f22835",
   "metadata": {},
   "outputs": [],
   "source": [
    "def distance_calc(pos1, pos2):\n",
    "    return math.sqrt((pos1[0] - pos2[0])**2 + (pos1[1] - pos2[1])**2)"
   ]
  },
  {
   "cell_type": "code",
   "execution_count": null,
   "id": "6b613257",
   "metadata": {},
   "outputs": [],
   "source": [
    "thresh2delete = 2\n",
    "\n",
    "edges2delete = []\n",
    "for u, v in G_myG.edges:\n",
    "    pos_u = G_myG.nodes[u]['mypos']\n",
    "    pos_v = G_myG.nodes[v]['mypos']\n",
    "    length = distance_calc(pos_u, pos_v)\n",
    "    if length >= thresh2delete:\n",
    "        edges2delete.append((u,v))"
   ]
  },
  {
   "cell_type": "code",
   "execution_count": null,
   "id": "97ec6b8e",
   "metadata": {},
   "outputs": [],
   "source": [
    "G_myG.remove_edges_from(edges2delete)"
   ]
  },
  {
   "cell_type": "code",
   "execution_count": null,
   "id": "43c9dbd7",
   "metadata": {},
   "outputs": [],
   "source": [
    "fig, axes = plt.subplots(figsize=(12, 6))\n",
    "\n",
    "nx.draw(G_myG, pos=pos_dict, with_labels=True, ax=axes)"
   ]
  },
  {
   "cell_type": "code",
   "execution_count": null,
   "id": "03de0dc5",
   "metadata": {},
   "outputs": [],
   "source": [
    "##### Loesung von Tim: ###\n",
    "\n",
    "rn.seed(42)\n",
    "x = 200  # mehr Punkte\n",
    "B = nx.Graph()\n",
    "pos = {}\n",
    " \n",
    "for i in range(x):\n",
    "    rn1 = rn.randint(0, 1000)\n",
    "    rn2 = rn.randint(0, 1000)\n",
    "    B.add_node(i)\n",
    "    pos[i] = (rn1, rn2)\n",
    " \n",
    "    # Kanten, wenn Abstand < 300\n",
    "    for u in range(i):\n",
    "        if math.dist(pos[u], pos[i]) < 300:\n",
    "            B.add_edge(u, i)\n",
    " \n",
    "# Zeichnen\n",
    "plt.figure(figsize=(12, 12))  # größere Zeichenfläche\n",
    "nx.draw(\n",
    "    B,\n",
    "    pos=pos,\n",
    "    node_size=30,      # kleinere Punkte\n",
    "    node_color=\"skyblue\",\n",
    "    edge_color=\"gray\",\n",
    "    with_labels=False   # Labels ausschalten bei vielen Punkten\n",
    ")\n",
    "plt.show()"
   ]
  }
 ],
 "metadata": {
  "kernelspec": {
   "display_name": ".venv (3.13.8)",
   "language": "python",
   "name": "python3"
  },
  "language_info": {
   "codemirror_mode": {
    "name": "ipython",
    "version": 3
   },
   "file_extension": ".py",
   "mimetype": "text/x-python",
   "name": "python",
   "nbconvert_exporter": "python",
   "pygments_lexer": "ipython3",
   "version": "3.13.8"
  }
 },
 "nbformat": 4,
 "nbformat_minor": 5
}
